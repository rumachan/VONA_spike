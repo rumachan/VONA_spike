{
 "cells": [
  {
   "cell_type": "markdown",
   "metadata": {},
   "source": [
    "# VONA Spike Test"
   ]
  },
  {
   "cell_type": "code",
   "execution_count": null,
   "metadata": {},
   "outputs": [],
   "source": [
    "%%javascript\n",
    "IPython.OutputArea.prototype._should_scroll = function(lines) {\n",
    "    return false;\n",
    "}"
   ]
  },
  {
   "cell_type": "code",
   "execution_count": null,
   "metadata": {},
   "outputs": [],
   "source": [
    "from ipywidgets import interact, interactive, fixed, interact_manual\n",
    "import ipywidgets as widgets\n",
    "from ipywidgets import Button, Layout\n",
    "\n",
    "import csv\n",
    "import datetime as dt"
   ]
  },
  {
   "cell_type": "markdown",
   "metadata": {},
   "source": [
    "## Fixed values"
   ]
  },
  {
   "cell_type": "markdown",
   "metadata": {},
   "source": [
    "### Element"
   ]
  },
  {
   "cell_type": "code",
   "execution_count": null,
   "metadata": {},
   "outputs": [],
   "source": [
    "element = ['Message title:', 'Issued:', 'Volcano:', 'Current Aviation Color Code:', \n",
    "           'Previous Aviation Color Code:', 'Source:', 'Notice Number:', 'Volcano Location:', \n",
    "           'Area:', 'Summit Elevation:', 'Volcanic Activity Summary:', 'Volcanic Cloud Height:', \n",
    "           'Other Volcanic Cloud Information:', 'Remarks:', 'Contacts:', 'Next Notice:']"
   ]
  },
  {
   "cell_type": "markdown",
   "metadata": {},
   "source": [
    "### Content"
   ]
  },
  {
   "cell_type": "code",
   "execution_count": null,
   "metadata": {},
   "outputs": [],
   "source": [
    "noticetitle = 'VOLCANO OBSERVATORY NOTICE FOR AVIATION (VONA)'\n",
    "\n",
    "content = ['VOLCANO OBSERVATORY NOTICE FOR AVIATION', 'date-time', 'volcanoname', 'col1', 'col2', \n",
    "           'GNS Science, New Zealand', '', 'location', 'area', 'height', 'activity', 'cloud', \n",
    "           'otherinfo', 'remarks',\n",
    "           'Duty Volcanologist, +6473760131ph,+6473748199fax',\n",
    "           'Will be issued if there is a change in aviation color code or when a significant volcanic event happens within the current color code'\n",
    "          ]"
   ]
  },
  {
   "cell_type": "markdown",
   "metadata": {},
   "source": [
    "## Initial values for widget functions, if not adjusted"
   ]
  },
  {
   "cell_type": "code",
   "execution_count": null,
   "metadata": {
    "scrolled": true
   },
   "outputs": [],
   "source": [
    "#vonanumber\n",
    "vonanum = 999\n",
    "\n",
    "#vonanumber notice detail\n",
    "vonanotice = 'NZ VONA'"
   ]
  },
  {
   "cell_type": "markdown",
   "metadata": {},
   "source": [
    "## Functions for widget actions"
   ]
  },
  {
   "cell_type": "code",
   "execution_count": null,
   "metadata": {},
   "outputs": [],
   "source": [
    "def selectvolcano(s):\n",
    "  global volcano\n",
    "  volcano = s['new']\n",
    "    \n",
    "def selectcurrentcol(c):\n",
    "  global curcol\n",
    "  curcol = c['new']\n",
    "    \n",
    "def selectpreviouscol(p):\n",
    "  global precol\n",
    "  precol = p['new']\n",
    "    \n",
    "def vonanumber(n):\n",
    "  global vonanum\n",
    "  vonanum = n['new']\n",
    "    \n",
    "def summarytext(summ):\n",
    "  global summtxt\n",
    "  summtxt = summ['new']\n",
    "    \n",
    "def process(z):\n",
    "    global volcdata\n",
    "    f = open('vona_data.csv', 'r')\n",
    "    reader = csv.reader(f)\n",
    "    volcdata = {}\n",
    "    for row in reader:\n",
    "        volcdata[row[0]] = {'name_id':row[1], 'location':row[2], 'area':row[3], 'height':row[4]}\n",
    "    genoutput(volcano)\n",
    "    outputtxt()"
   ]
  },
  {
   "cell_type": "markdown",
   "metadata": {},
   "source": [
    "## Other functions"
   ]
  },
  {
   "cell_type": "code",
   "execution_count": null,
   "metadata": {},
   "outputs": [],
   "source": [
    "def genoutput(volcano):\n",
    "    utcnow = dt.datetime.utcnow()\n",
    "    #issue time\n",
    "    issuetime = utcnow.strftime('%Y%m%d/%H%MZ')\n",
    "    content[1] = issuetime\n",
    "    #issue year, for notice number\n",
    "    issueyear = utcnow.strftime('%y')\n",
    "    #volcano name and id code\n",
    "    content[2] = volcdata[volcano]['name_id']\n",
    "    #current color\n",
    "    content[3] = curcol\n",
    "    #previous color\n",
    "    content[4] = precol\n",
    "    #vona number\n",
    "    num = str(vonanum).zfill(2)\n",
    "    content[6] = vonanotice+' ' +num+'/'+issueyear\n",
    "    #volcano location\n",
    "    content[7] = volcdata[volcano]['location']\n",
    "    #area\n",
    "    content[8] = volcdata[volcano]['area']\n",
    "    content[9] = volcdata[volcano]['height']\n",
    "    content[10] = summtxt\n",
    "\n",
    "def outputtxt():\n",
    "    print (noticetitle,'\\n')\n",
    "    #print each line\n",
    "    for idx,(e,c) in enumerate(zip(element, content)):\n",
    "        print (idx, '-', e, c)"
   ]
  },
  {
   "cell_type": "markdown",
   "metadata": {},
   "source": [
    "## Display widgets"
   ]
  },
  {
   "cell_type": "code",
   "execution_count": null,
   "metadata": {
    "scrolled": false
   },
   "outputs": [],
   "source": [
    "style = {'description_width': 'initial'}\n",
    "\n",
    "s = widgets.Select(\n",
    "    options=['Choose one', 'White Island', 'Ruapehu'],\n",
    "    value='Choose one',\n",
    "    description='Volcano'\n",
    "    )\n",
    "s.observe(selectvolcano, names='value')\n",
    "\n",
    "c = widgets.Select(\n",
    "    options=['Choose one', 'green', 'yellow', 'orange', 'red'],\n",
    "    value='Choose one',\n",
    "    description='Current color'\n",
    "    )\n",
    "c.observe(selectcurrentcol, names='value')\n",
    "\n",
    "p = widgets.Select(\n",
    "    options=['Choose one', 'green', 'yellow', 'orange', 'red'],\n",
    "    value='Choose one',\n",
    "    description='Previous color',\n",
    "    style=style\n",
    "    )\n",
    "p.observe(selectpreviouscol, names='value')\n",
    "\n",
    "n=widgets.IntSlider(\n",
    "    value=1, min=1, max=20, step=1,\n",
    "    description='VONA number', style=style,\n",
    "    disabled=False, continuous_update=False, \n",
    "    orientation='horizontal', readout=True,\n",
    "    slider_color='white')\n",
    "n.observe(vonanumber, names='value')\n",
    "\n",
    "summ = widgets.Textarea(\n",
    "    value='NIL',\n",
    "    placeholder='Type something',\n",
    "    description='Activity summary',\n",
    "    style=style,\n",
    "    disabled=False\n",
    ")\n",
    "summ.observe(summarytext, names='value')\n",
    "\n",
    "z=widgets.Button(\n",
    "    description='Process',\n",
    "    tooltip='Create VONA')\n",
    "z.on_click(process)\n",
    "\n",
    "#arrange widgets in a sensible order\n",
    "row1 = widgets.HBox([s,n])\n",
    "row2 = widgets.HBox([c,p])\n",
    "row3 = widgets.HBox([summ])\n",
    "rowlast = widgets.HBox([z])\n",
    "widgets.VBox([row1,row2,row3,rowlast])"
   ]
  }
 ],
 "metadata": {
  "kernelspec": {
   "display_name": "Python 3",
   "language": "python",
   "name": "python3"
  },
  "language_info": {
   "codemirror_mode": {
    "name": "ipython",
    "version": 3
   },
   "file_extension": ".py",
   "mimetype": "text/x-python",
   "name": "python",
   "nbconvert_exporter": "python",
   "pygments_lexer": "ipython3",
   "version": "3.7.3"
  }
 },
 "nbformat": 4,
 "nbformat_minor": 4
}
