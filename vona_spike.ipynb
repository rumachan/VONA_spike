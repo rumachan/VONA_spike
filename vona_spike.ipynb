{
 "cells": [
  {
   "cell_type": "markdown",
   "metadata": {},
   "source": [
    "# VONA Spike Test"
   ]
  },
  {
   "cell_type": "code",
   "execution_count": null,
   "metadata": {},
   "outputs": [],
   "source": [
    "%%javascript\n",
    "IPython.OutputArea.prototype._should_scroll = function(lines) {\n",
    "    return false;\n",
    "}"
   ]
  },
  {
   "cell_type": "code",
   "execution_count": null,
   "metadata": {},
   "outputs": [],
   "source": [
    "from ipywidgets import interact, interactive, fixed, interact_manual\n",
    "import ipywidgets as widgets\n",
    "from ipywidgets import Button, Layout\n",
    "\n",
    "import csv\n",
    "import datetime as dt\n",
    "\n",
    "from reportlab.pdfgen import canvas"
   ]
  },
  {
   "cell_type": "markdown",
   "metadata": {},
   "source": [
    "## Fixed values"
   ]
  },
  {
   "cell_type": "markdown",
   "metadata": {},
   "source": [
    "### Element"
   ]
  },
  {
   "cell_type": "code",
   "execution_count": null,
   "metadata": {},
   "outputs": [],
   "source": [
    "element = ['Message title:', 'Issued:', 'Volcano:', 'Current Aviation Color Code:', \n",
    "           'Previous Aviation Color Code:', 'Source:', 'Notice Number:', 'Volcano Location:', \n",
    "           'Area:', 'Summit Elevation:', 'Volcanic Activity Summary:', 'Volcanic Cloud Height:', \n",
    "           'Other Volcanic Cloud Information:', 'Remarks:', 'Contacts:', 'Next Notice:']"
   ]
  },
  {
   "cell_type": "markdown",
   "metadata": {},
   "source": [
    "### Content"
   ]
  },
  {
   "cell_type": "code",
   "execution_count": null,
   "metadata": {},
   "outputs": [],
   "source": [
    "noticetitle = 'VOLCANO OBSERVATORY NOTICE FOR AVIATION (VONA)'\n",
    "\n",
    "content = ['VOLCANO OBSERVATORY NOTICE FOR AVIATION', 'date-time', 'volcanoname', 'col1', 'col2', \n",
    "           'GNS Science, New Zealand', '', 'location', 'area', '', '', '', '', '',\n",
    "           'Volcano Duty Officer, +6473748211ph,+6473748199fax',\n",
    "           'Will be issued if there is a change in aviation color code or when a significant volcanic event happens within the current color code'\n",
    "          ]"
   ]
  },
  {
   "cell_type": "markdown",
   "metadata": {},
   "source": [
    "## Initial values for widget functions, if not adjusted"
   ]
  },
  {
   "cell_type": "code",
   "execution_count": null,
   "metadata": {
    "scrolled": true
   },
   "outputs": [],
   "source": [
    "#vonanumber\n",
    "vonanum = 999\n",
    "\n",
    "#vonanumber notice detail\n",
    "vonanotice = 'NZ VONA'"
   ]
  },
  {
   "cell_type": "markdown",
   "metadata": {},
   "source": [
    "## Functions for widget actions"
   ]
  },
  {
   "cell_type": "code",
   "execution_count": null,
   "metadata": {},
   "outputs": [],
   "source": [
    "def selectvolcano(s):\n",
    "    global volcano\n",
    "    volcano = s['new']\n",
    "    \n",
    "def selectcurrentcol(c):\n",
    "    global curcol\n",
    "    curcol = c['new'].upper()\n",
    "    \n",
    "def selectpreviouscol(p):\n",
    "    global precol\n",
    "    precol = p['new']\n",
    "    \n",
    "def vonanumber(n):\n",
    "    global vonanum\n",
    "    vonanum = n['new']\n",
    "    \n",
    "def summarytext(summ):\n",
    "    global summtxt\n",
    "    summtxt = summ['new']\n",
    "    \n",
    "#volcanic cloud height\n",
    "def cloudheight(clht):\n",
    "    global cloudht\n",
    "    cloudht = clht['new']\n",
    "    \n",
    "#other volcanic cloud information\n",
    "def othercloud(otcl):\n",
    "    global cloudinfo\n",
    "    cloudinfo = otcl['new']\n",
    "\n",
    "#remarks\n",
    "def remarks(rem):\n",
    "    global remark\n",
    "    remark = rem['new']    \n",
    "\n",
    "def process(z):\n",
    "    global volcdata\n",
    "    f = open('vona_data.csv', 'r')\n",
    "    reader = csv.reader(f)\n",
    "    volcdata = {}\n",
    "    for row in reader:\n",
    "        volcdata[row[0]] = {'name_id':row[1], 'location':row[2], 'area':row[3], 'height':row[4]}\n",
    "    genoutput(volcano)\n",
    "#     outputtxt()\n",
    "    outputpdf()"
   ]
  },
  {
   "cell_type": "markdown",
   "metadata": {},
   "source": [
    "## Other functions"
   ]
  },
  {
   "cell_type": "code",
   "execution_count": null,
   "metadata": {},
   "outputs": [],
   "source": [
    "def genoutput(volcano):\n",
    "    utcnow = dt.datetime.utcnow()\n",
    "    #issue time\n",
    "    issuetime = utcnow.strftime('%Y%m%d/%H%MZ')\n",
    "    content[1] = issuetime\n",
    "    #issue year, for notice number\n",
    "    issueyear = utcnow.strftime('%Y')\n",
    "    #volcano name and id code\n",
    "    content[2] = volcdata[volcano]['name_id']\n",
    "    #current color\n",
    "    content[3] = curcol\n",
    "    #previous color\n",
    "    content[4] = precol\n",
    "    #vona number\n",
    "    num = str(vonanum).zfill(2)\n",
    "    content[6] = vonanotice+' ' +issueyear+'/'+num\n",
    "    #volcano location\n",
    "    content[7] = volcdata[volcano]['location']\n",
    "    #area\n",
    "    content[8] = volcdata[volcano]['area']\n",
    "    content[9] = volcdata[volcano]['height']\n",
    "    content[10] = summtxt\n",
    "    content[11] = cloudht\n",
    "    content[12] = cloudinfo\n",
    "    content[13] = remark\n",
    "\n",
    "def outputtxt():\n",
    "    f = open('vona.txt', 'w')\n",
    "    print (noticetitle,'\\n')\n",
    "    f.write(noticetitle)\n",
    "    f.write('\\n')\n",
    "    #print each line\n",
    "    for idx,(e,c) in enumerate(zip(element, content)):\n",
    "        print (f\"{idx:<5}{e:<40}{c:<100}\")\n",
    "        f.write (f\"{idx:<5}{e:<40}{c:<100}\\n\")\n",
    "    f.close()\n",
    "    \n",
    "def outputpdf():\n",
    "    left_margin = 50\n",
    "    first_row = 50\n",
    "    row_increment = 20\n",
    "    row = first_row + row_increment\n",
    "    canv = canvas.Canvas('vona.pdf', bottomup=0, initialFontName='Courier', initialFontSize=10)\n",
    "    canv.drawString(left_margin,first_row,noticetitle)\n",
    "    for idx,(e,c) in enumerate(zip(element, content)):\n",
    "        txtstring = f\"{idx:<5}{e:<40}{c:<100}\\n\"\n",
    "        canv.drawString(left_margin, row, txtstring)\n",
    "        row += row_increment\n",
    "    canv.save()"
   ]
  },
  {
   "cell_type": "markdown",
   "metadata": {},
   "source": [
    "## Display widgets"
   ]
  },
  {
   "cell_type": "code",
   "execution_count": null,
   "metadata": {
    "scrolled": true
   },
   "outputs": [],
   "source": [
    "style = {'description_width': 'initial'}\n",
    "\n",
    "s = widgets.Select(\n",
    "    options=['Choose one', 'White Island', 'Ruapehu'],\n",
    "    value='Choose one',\n",
    "    description='Volcano'\n",
    "    )\n",
    "s.observe(selectvolcano, names='value')\n",
    "\n",
    "c = widgets.Select(\n",
    "    options=['Choose one', 'green', 'yellow', 'orange', 'red'],\n",
    "    value='Choose one',\n",
    "    description='Current color'\n",
    "    )\n",
    "c.observe(selectcurrentcol, names='value')\n",
    "\n",
    "p = widgets.Select(\n",
    "    options=['Choose one', 'green', 'yellow', 'orange', 'red'],\n",
    "    value='Choose one',\n",
    "    description='Previous color',\n",
    "    style=style\n",
    "    )\n",
    "p.observe(selectpreviouscol, names='value')\n",
    "\n",
    "n = widgets.IntSlider(\n",
    "    value=1, min=1, max=20, step=1,\n",
    "    description='VONA number', style=style,\n",
    "    disabled=False, continuous_update=False, \n",
    "    orientation='horizontal', readout=True,\n",
    "    slider_color='white')\n",
    "n.observe(vonanumber, names='value')\n",
    "\n",
    "#activity summary text box\n",
    "summ = widgets.Textarea(\n",
    "    value='',\n",
    "    placeholder='',\n",
    "    description='Volcanic Activity Summary',\n",
    "    style=style,\n",
    "    disabled=False\n",
    ")\n",
    "summ.observe(summarytext, names='value')\n",
    "\n",
    "#cloud height text box\n",
    "clht = widgets.Textarea(\n",
    "    value='',\n",
    "    placeholder='',\n",
    "    description='Volcanic cloud height',\n",
    "    style=style,\n",
    "    disabled=False\n",
    ")\n",
    "clht.observe(cloudheight, names='value')\n",
    "\n",
    "#other cloud information\n",
    "otcl = widgets.Textarea(\n",
    "    value='',\n",
    "#     placeholder='Type text description',\n",
    "    description='Other cloud info',\n",
    "    style=style,\n",
    "    disabled=False\n",
    ")\n",
    "otcl.observe(othercloud, names='value')\n",
    "\n",
    "#remarks\n",
    "rem = widgets.Textarea(\n",
    "    value='',\n",
    "    placeholder='',\n",
    "    description='remarks',\n",
    "    style=style,\n",
    "    disabled=False\n",
    ")\n",
    "rem.observe(remarks, names='value')\n",
    "\n",
    "#process input button\n",
    "z = widgets.Button(\n",
    "    description='Process',\n",
    "    tooltip='Create VONA')\n",
    "z.on_click(process)\n",
    "\n",
    "#arrange widgets in a sensible order\n",
    "row1 = widgets.HBox([s,n])\n",
    "row2 = widgets.HBox([c,p])\n",
    "row3 = widgets.HBox([summ,clht,otcl])\n",
    "row4 = widgets.HBox([rem])\n",
    "rowlast = widgets.HBox([z])\n",
    "widgets.VBox([row1,row2,row3,row4,rowlast])"
   ]
  }
 ],
 "metadata": {
  "kernelspec": {
   "display_name": "Python 3",
   "language": "python",
   "name": "python3"
  },
  "language_info": {
   "codemirror_mode": {
    "name": "ipython",
    "version": 3
   },
   "file_extension": ".py",
   "mimetype": "text/x-python",
   "name": "python",
   "nbconvert_exporter": "python",
   "pygments_lexer": "ipython3",
   "version": "3.7.3"
  }
 },
 "nbformat": 4,
 "nbformat_minor": 4
}
