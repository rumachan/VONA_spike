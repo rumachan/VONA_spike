{
 "cells": [
  {
   "cell_type": "markdown",
   "metadata": {},
   "source": [
    "# VONA Spike Test"
   ]
  },
  {
   "cell_type": "code",
   "execution_count": 102,
   "metadata": {},
   "outputs": [],
   "source": [
    "from ipywidgets import interact, interactive, fixed, interact_manual\n",
    "import ipywidgets as widgets\n",
    "from ipywidgets import Button, Layout\n",
    "\n",
    "import csv\n",
    "import datetime as dt"
   ]
  },
  {
   "cell_type": "markdown",
   "metadata": {},
   "source": [
    "## Fixed values"
   ]
  },
  {
   "cell_type": "markdown",
   "metadata": {},
   "source": [
    "### Element"
   ]
  },
  {
   "cell_type": "code",
   "execution_count": 103,
   "metadata": {},
   "outputs": [],
   "source": [
    "element = ['Message title:', 'Issued:', 'Volcano:', 'Current Aviation Color Code:', \n",
    "           'Previous Aviation Color Code:', 'Source:', 'Notice Number:', 'Volcano Location:', \n",
    "           'Area:', 'Summit Elevation:', 'Volcanic Activity Summary:', 'Volcanic Cloud Height:', \n",
    "           'Other Volcanic Cloud Information:', 'Remarks:', 'Contacts:', 'Next Notice:']"
   ]
  },
  {
   "cell_type": "markdown",
   "metadata": {},
   "source": [
    "### Content"
   ]
  },
  {
   "cell_type": "code",
   "execution_count": 104,
   "metadata": {},
   "outputs": [],
   "source": [
    "noticetitle = 'VOLCANO OBSERVATORY NOTICE FOR AVIATION (VONA)'\n",
    "\n",
    "content = ['VOLCANO OBSERVATORY NOTICE FOR AVIATION', 'date-time', 'volcanoname', 'col1', 'col2', \n",
    "           'GNS Science, New Zealand', 'NZ VONA', 'location', 'area', 'height', 'activity', 'cloud', \n",
    "           'otherinfo', 'remarks',\n",
    "           'Duty Volcanologist, +6473760131ph,+6473748199fax',\n",
    "           'Will be issued if there is a change in aviation color code or when a significant volcanic event happens within the current color code'\n",
    "          ]"
   ]
  },
  {
   "cell_type": "markdown",
   "metadata": {},
   "source": [
    "## Functions for widget actions"
   ]
  },
  {
   "cell_type": "code",
   "execution_count": 105,
   "metadata": {},
   "outputs": [],
   "source": [
    "def selectvolcano(s):\n",
    "  global volcano\n",
    "  volcano = s['new']\n",
    "    \n",
    "def selectcurrentcol(c):\n",
    "  global curcol\n",
    "  curcol = c['new']\n",
    "    \n",
    "def selectpreviouscol(p):\n",
    "  global precol\n",
    "  precol = p['new']\n",
    "    \n",
    "def process(z):\n",
    "    global volcdata\n",
    "    f = open('vona_data.csv', 'r')\n",
    "    reader = csv.reader(f)\n",
    "    volcdata = {}\n",
    "    for row in reader:\n",
    "        volcdata[row[0]] = {'name_id':row[1], 'location':row[2], 'area':row[3], 'height':row[4]}\n",
    "    genoutput(volcano)\n",
    "    outputtxt()"
   ]
  },
  {
   "cell_type": "markdown",
   "metadata": {},
   "source": [
    "## Other functions"
   ]
  },
  {
   "cell_type": "code",
   "execution_count": 106,
   "metadata": {},
   "outputs": [
    {
     "data": {
      "text/plain": [
       "{'White Island': {'name_id': 'White Island 241040',\n",
       "  'location': '3752S17718E',\n",
       "  'area': 'White Island',\n",
       "  'height': '1053FT'},\n",
       " 'Ruapehu': {'name_id': 'Ruapehu 123456',\n",
       "  'location': '4000S17500E',\n",
       "  'area': 'Ruapehu',\n",
       "  'height': '9999FT'}}"
      ]
     },
     "execution_count": 106,
     "metadata": {},
     "output_type": "execute_result"
    }
   ],
   "source": [
    "volcdata"
   ]
  },
  {
   "cell_type": "code",
   "execution_count": 107,
   "metadata": {},
   "outputs": [
    {
     "data": {
      "text/plain": [
       "'White Island 241040'"
      ]
     },
     "execution_count": 107,
     "metadata": {},
     "output_type": "execute_result"
    }
   ],
   "source": [
    "volcdata[volcano]['name_id']"
   ]
  },
  {
   "cell_type": "code",
   "execution_count": 108,
   "metadata": {},
   "outputs": [],
   "source": [
    "def genoutput(volcano):\n",
    "    utcnow = dt.datetime.utcnow()\n",
    "    #issue time\n",
    "    issuetime = utcnow.strftime('%Y%m%d/%H%MZ')\n",
    "    content[1] = issuetime\n",
    "    #issue year, for notice number\n",
    "    issueyear = utcnow.strftime('%y')\n",
    "    #volcano name and id code\n",
    "    content[2] = volcdata[volcano]['name_id']\n",
    "    #current color\n",
    "    content[3] = curcol\n",
    "    #previous color\n",
    "    content[4] = precol\n",
    "\n",
    "def outputtxt():\n",
    "    print (noticetitle)\n",
    "    #print each line\n",
    "    for idx,(e,c) in enumerate(zip(element, content)):\n",
    "        print (idx, '-', e, c)"
   ]
  },
  {
   "cell_type": "code",
   "execution_count": 114,
   "metadata": {},
   "outputs": [
    {
     "data": {
      "application/vnd.jupyter.widget-view+json": {
       "model_id": "9bb67841f66241f3903d4046106f0df6",
       "version_major": 2,
       "version_minor": 0
      },
      "text/plain": [
       "VBox(children=(HBox(children=(Select(description='Volcano:', options=('Choose one', 'White Island', 'Ruapehu')…"
      ]
     },
     "metadata": {},
     "output_type": "display_data"
    },
    {
     "name": "stdout",
     "output_type": "stream",
     "text": [
      "VOLCANO OBSERVATORY NOTICE FOR AVIATION (VONA)\n",
      "0 - Message title: VOLCANO OBSERVATORY NOTICE FOR AVIATION\n",
      "1 - Issued: 20190710/0325Z\n",
      "2 - Volcano: White Island 241040\n",
      "3 - Current Aviation Color Code: yellow\n",
      "4 - Previous Aviation Color Code: orange\n",
      "5 - Source: GNS Science, New Zealand\n",
      "6 - Notice Number: NZ VONA\n",
      "7 - Volcano Location: location\n",
      "8 - Area: area\n",
      "9 - Summit Elevation: height\n",
      "10 - Volcanic Activity Summary: activity\n",
      "11 - Volcanic Cloud Height: cloud\n",
      "12 - Other Volcanic Cloud Information: otherinfo\n",
      "13 - Remarks: remarks\n",
      "14 - Contacts: Duty Volcanologist, +6473760131ph,+6473748199fax\n",
      "15 - Next Notice: Will be issued if there is a change in aviation color code or when a significant volcanic event happens within the current color code\n"
     ]
    }
   ],
   "source": [
    "s = widgets.Select(\n",
    "    options=['Choose one', 'White Island', 'Ruapehu'],\n",
    "    value='Choose one',\n",
    "    description='Volcano:'\n",
    "    )\n",
    "s.observe(selectvolcano, names='value')\n",
    "\n",
    "c = widgets.Select(\n",
    "    options=['Choose one', 'green', 'yellow', 'orange', 'red'],\n",
    "    value='Choose one',\n",
    "    description='Current color:'\n",
    "    )\n",
    "c.observe(selectcurrentcol, names='value')\n",
    "\n",
    "p = widgets.Select(\n",
    "    options=['Choose one', 'green', 'yellow', 'orange', 'red'],\n",
    "    value='Choose one',\n",
    "    description='Previous color:'\n",
    "    )\n",
    "p.observe(selectpreviouscol, names='value')\n",
    "\n",
    "z=widgets.Button(\n",
    "    description='Process',\n",
    "    button_style='success',\n",
    "    tooltip='Create VONA')\n",
    "z.on_click(process)\n",
    "\n",
    "# widgets.HBox([s,c,p])\n",
    "\n",
    "row1 = widgets.HBox([s])\n",
    "row2 = widgets.HBox([c,p])\n",
    "rowlast = widgets.HBox([z])\n",
    "widgets.VBox([row1,row2,rowlast])"
   ]
  }
 ],
 "metadata": {
  "kernelspec": {
   "display_name": "Python 3",
   "language": "python",
   "name": "python3"
  },
  "language_info": {
   "codemirror_mode": {
    "name": "ipython",
    "version": 3
   },
   "file_extension": ".py",
   "mimetype": "text/x-python",
   "name": "python",
   "nbconvert_exporter": "python",
   "pygments_lexer": "ipython3",
   "version": "3.7.3"
  }
 },
 "nbformat": 4,
 "nbformat_minor": 4
}
